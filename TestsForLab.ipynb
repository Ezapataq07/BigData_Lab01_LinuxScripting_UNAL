{
 "cells": [
  {
   "cell_type": "code",
   "execution_count": null,
   "id": "3e5be533",
   "metadata": {
    "vscode": {
     "languageId": "shellscript"
    }
   },
   "outputs": [
    {
     "name": "stdout",
     "output_type": "stream",
     "text": [
      "170625183857\n"
     ]
    },
    {
     "name": "stdout",
     "output_type": "stream",
     "text": [
      "170625183857\n"
     ]
    }
   ],
   "source": [
    "%%bash\n",
    "x=$(date \"+%d%m%y%H%M%S\")\n",
    "echo $x\n",
    "sleep 5\n",
    "echo $x"
   ]
  },
  {
   "cell_type": "markdown",
   "id": "e0eea127",
   "metadata": {},
   "source": [
    "#### Generar valor aleatorio"
   ]
  },
  {
   "cell_type": "code",
   "execution_count": 30,
   "metadata": {
    "vscode": {
     "languageId": "shellscript"
    }
   },
   "outputs": [
    {
     "name": "stdout",
     "output_type": "stream",
     "text": [
      "82\n"
     ]
    }
   ],
   "source": [
    "%%bash\n",
    "\n",
    "echo $(($RANDOM % 100))"
   ]
  },
  {
   "cell_type": "code",
   "execution_count": 22,
   "metadata": {
    "vscode": {
     "languageId": "shellscript"
    }
   },
   "outputs": [
    {
     "name": "stdout",
     "output_type": "stream",
     "text": [
      "180625180218\n"
     ]
    }
   ],
   "source": [
    "%%bash\n",
    "bash Apolo-11.sh"
   ]
  },
  {
   "cell_type": "code",
   "execution_count": 23,
   "id": "8d817cfb",
   "metadata": {
    "vscode": {
     "languageId": "shellscript"
    }
   },
   "outputs": [
    {
     "name": "stdout",
     "output_type": "stream",
     "text": [
      "ar=hola\n",
      "\n"
     ]
    }
   ],
   "source": [
    "%%bash\n",
    "dev=ar=\"hola\"\n",
    "\n",
    "echo $dev \n",
    "echo $ar"
   ]
  },
  {
   "cell_type": "code",
   "execution_count": null,
   "metadata": {
    "vscode": {
     "languageId": "shellscript"
    }
   },
   "outputs": [],
   "source": []
  },
  {
   "cell_type": "code",
   "execution_count": null,
   "metadata": {
    "vscode": {
     "languageId": "shellscript"
    }
   },
   "outputs": [],
   "source": []
  },
  {
   "cell_type": "code",
   "execution_count": null,
   "id": "93ddd3a9",
   "metadata": {
    "vscode": {
     "languageId": "shellscript"
    }
   },
   "outputs": [],
   "source": []
  },
  {
   "cell_type": "code",
   "execution_count": null,
   "id": "4fd0db83",
   "metadata": {
    "vscode": {
     "languageId": "shellscript"
    }
   },
   "outputs": [],
   "source": []
  }
 ],
 "metadata": {
  "kernelspec": {
   "display_name": ".venv",
   "language": "python",
   "name": "python3"
  },
  "language_info": {
   "codemirror_mode": {
    "name": "ipython",
    "version": 3
   },
   "file_extension": ".py",
   "mimetype": "text/x-python",
   "name": "python",
   "nbconvert_exporter": "python",
   "pygments_lexer": "ipython3",
   "version": "3.12.3"
  }
 },
 "nbformat": 4,
 "nbformat_minor": 5
}
